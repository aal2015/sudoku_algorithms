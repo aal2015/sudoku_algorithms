{
 "cells": [
  {
   "cell_type": "markdown",
   "id": "cdec093e-5a5d-428c-8eea-0e23b9f6cd83",
   "metadata": {},
   "source": [
    "# Sudoku Solver"
   ]
  },
  {
   "cell_type": "markdown",
   "id": "3625a764-c88e-4f85-bc48-dbef6ec28ae7",
   "metadata": {},
   "source": [
    "#### Logic"
   ]
  },
  {
   "cell_type": "code",
   "execution_count": 2,
   "id": "2f2075ab-fdcf-45f4-84c0-fcfc260623bb",
   "metadata": {},
   "outputs": [],
   "source": [
    "grid = [[0, 6, 2,   8, 0, 0,   0, 0, 5],\n",
    "        [0, 1, 0,   0, 0, 0,   2, 0, 0],\n",
    "        [4, 0, 0,   0, 5, 0,   9, 0, 0],\n",
    "        \n",
    "        [0, 5, 8,   1, 3, 0,   7, 4, 9],\n",
    "        [0, 0, 0,   0, 0, 0,   6, 0, 0],\n",
    "        [0, 9, 1,   0, 6, 0,   3, 0, 8],\n",
    "        \n",
    "        [0, 0, 9,   0, 8, 0,   5, 2, 0],\n",
    "        [3, 0, 4,   9, 0, 0,   8, 6, 7],\n",
    "        [5, 8, 6,   4, 2, 0,   0, 0, 3]]"
   ]
  },
  {
   "cell_type": "code",
   "execution_count": null,
   "id": "09471d58",
   "metadata": {},
   "outputs": [],
   "source": []
  }
 ],
 "metadata": {
  "kernelspec": {
   "display_name": "Python 3 (ipykernel)",
   "language": "python",
   "name": "python3"
  },
  "language_info": {
   "codemirror_mode": {
    "name": "ipython",
    "version": 3
   },
   "file_extension": ".py",
   "mimetype": "text/x-python",
   "name": "python",
   "nbconvert_exporter": "python",
   "pygments_lexer": "ipython3",
   "version": "3.9.12"
  }
 },
 "nbformat": 4,
 "nbformat_minor": 5
}
